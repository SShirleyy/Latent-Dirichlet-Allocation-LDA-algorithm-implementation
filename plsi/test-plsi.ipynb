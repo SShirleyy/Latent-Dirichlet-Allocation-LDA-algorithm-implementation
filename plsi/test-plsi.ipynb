{
 "cells": [
  {
   "cell_type": "markdown",
   "metadata": {},
   "source": [
    "testing for plsi with gensim."
   ]
  },
  {
   "cell_type": "code",
   "execution_count": 2,
   "metadata": {
    "collapsed": true
   },
   "outputs": [],
   "source": [
    "import logging, gensim, bz2"
   ]
  },
  {
   "cell_type": "markdown",
   "metadata": {},
   "source": [
    "we need to download wiki data first before running our testcase."
   ]
  },
  {
   "cell_type": "code",
   "execution_count": 3,
   "metadata": {},
   "outputs": [],
   "source": [
    "logging.basicConfig(format='%(asctime)s : %(levelname)s : %(message)s', level=logging.INFO)\n",
    "id2word = id2word = gensim.corpora.Dictionary.load_from_text('./wiki/wiki_wordids.txt')\n",
    "mm = gensim.corpora.MmCorpus('./wiki/wiki_tfidf.mm')\n",
    "print(mm)"
   ]
  },
  {
   "cell_type": "code",
   "execution_count": 6,
   "metadata": {},
   "outputs": [
    {
     "name": "stderr",
     "output_type": "stream",
     "text": [
      "2018-01-17 11:30:35,272 : INFO : using serial LSI version on this node\n",
      "2018-01-17 11:30:35,274 : INFO : updating model with new documents\n",
      "2018-01-17 11:30:46,558 : INFO : preparing a new chunk of documents\n",
      "2018-01-17 11:30:47,750 : INFO : using 100 extra samples and 2 power iterations\n",
      "2018-01-17 11:30:47,752 : INFO : 1st phase: constructing (48337, 500) action matrix\n",
      "2018-01-17 11:30:50,487 : INFO : orthonormalizing (48337, 500) action matrix\n",
      "2018-01-17 11:31:14,004 : INFO : 2nd phase: running dense svd on (500, 20000) matrix\n",
      "2018-01-17 11:31:19,210 : INFO : computing the final decomposition\n",
      "2018-01-17 11:31:19,222 : INFO : keeping 400 factors (discarding 7.987% of energy spectrum)\n",
      "2018-01-17 11:31:20,507 : INFO : processed documents up to #20000\n",
      "2018-01-17 11:31:20,568 : INFO : topic #0(12.635): 0.143*\"church\" + 0.119*\"album\" + 0.108*\"olympics\" + 0.096*\"music\" + 0.082*\"league\" + 0.081*\"song\" + 0.078*\"county\" + 0.077*\"football\" + 0.077*\"club\" + 0.072*\"historic\"\n",
      "2018-01-17 11:31:20,571 : INFO : topic #1(9.878): -0.354*\"olympics\" + 0.281*\"church\" + -0.201*\"kg\" + -0.180*\"profile\" + -0.153*\"score\" + -0.153*\"nbc\" + -0.150*\"beijing\" + -0.149*\"summer\" + -0.144*\"competed\" + 0.142*\"historic\"\n",
      "2018-01-17 11:31:20,574 : INFO : topic #2(9.294): -0.476*\"church\" + 0.294*\"album\" + -0.240*\"historic\" + 0.187*\"chart\" + 0.183*\"song\" + 0.158*\"music\" + -0.146*\"register\" + -0.130*\"built\" + 0.129*\"band\" + -0.124*\"olympics\"\n",
      "2018-01-17 11:31:20,578 : INFO : topic #3(8.581): 0.349*\"church\" + 0.306*\"album\" + 0.205*\"chart\" + 0.186*\"song\" + 0.162*\"historic\" + -0.143*\"election\" + 0.136*\"olympics\" + 0.135*\"music\" + -0.134*\"party\" + 0.123*\"band\"\n",
      "2018-01-17 11:31:20,582 : INFO : topic #4(7.985): -0.449*\"species\" + 0.244*\"league\" + -0.216*\"marine\" + 0.197*\"football\" + -0.190*\"limpets\" + 0.170*\"club\" + 0.132*\"goals\" + -0.130*\"olympics\" + 0.130*\"cup\" + 0.129*\"church\"\n",
      "2018-01-17 11:31:33,298 : INFO : preparing a new chunk of documents\n",
      "2018-01-17 11:31:34,231 : INFO : using 100 extra samples and 2 power iterations\n",
      "2018-01-17 11:31:34,232 : INFO : 1st phase: constructing (48337, 500) action matrix\n",
      "2018-01-17 11:31:37,096 : INFO : orthonormalizing (48337, 500) action matrix\n",
      "2018-01-17 11:32:03,476 : INFO : 2nd phase: running dense svd on (500, 20000) matrix\n",
      "2018-01-17 11:32:08,695 : INFO : computing the final decomposition\n",
      "2018-01-17 11:32:08,697 : INFO : keeping 400 factors (discarding 8.290% of energy spectrum)\n",
      "2018-01-17 11:32:10,070 : INFO : merging projections: (48337, 400) + (48337, 400)\n",
      "2018-01-17 11:32:17,275 : INFO : keeping 400 factors (discarding 12.794% of energy spectrum)\n",
      "2018-01-17 11:32:19,105 : INFO : processed documents up to #40000\n",
      "2018-01-17 11:32:19,112 : INFO : topic #0(17.500): 0.139*\"album\" + 0.111*\"church\" + 0.104*\"music\" + 0.097*\"song\" + 0.081*\"league\" + 0.075*\"band\" + 0.073*\"club\" + 0.072*\"party\" + 0.070*\"chart\" + 0.070*\"district\"\n",
      "2018-01-17 11:32:19,115 : INFO : topic #1(12.680): -0.421*\"album\" + -0.260*\"song\" + -0.231*\"chart\" + -0.198*\"music\" + -0.186*\"band\" + 0.177*\"church\" + -0.135*\"vocals\" + -0.132*\"track\" + -0.122*\"guitar\" + -0.113*\"albums\"\n",
      "2018-01-17 11:32:19,118 : INFO : topic #2(12.290): 0.307*\"church\" + -0.263*\"olympics\" + -0.187*\"league\" + -0.156*\"cup\" + -0.145*\"round\" + -0.136*\"profile\" + -0.133*\"club\" + -0.128*\"championships\" + -0.127*\"football\" + 0.124*\"historic\"\n",
      "2018-01-17 11:32:19,123 : INFO : topic #3(11.230): -0.532*\"church\" + 0.234*\"election\" + 0.234*\"party\" + -0.198*\"historic\" + 0.146*\"democratic\" + 0.143*\"republican\" + -0.126*\"register\" + 0.125*\"elections\" + -0.122*\"built\" + -0.117*\"olympics\"\n",
      "2018-01-17 11:32:19,130 : INFO : topic #4(10.861): 0.617*\"species\" + 0.301*\"marine\" + -0.235*\"church\" + 0.169*\"genus\" + 0.162*\"gastropod\" + 0.161*\"mm\" + 0.149*\"snail\" + 0.144*\"mollusk\" + 0.144*\"sea\" + 0.138*\"shell\"\n",
      "2018-01-17 11:32:32,011 : INFO : preparing a new chunk of documents\n",
      "2018-01-17 11:32:32,841 : INFO : using 100 extra samples and 2 power iterations\n",
      "2018-01-17 11:32:32,842 : INFO : 1st phase: constructing (48337, 500) action matrix\n",
      "2018-01-17 11:32:35,329 : INFO : orthonormalizing (48337, 500) action matrix\n",
      "2018-01-17 11:33:01,477 : INFO : 2nd phase: running dense svd on (500, 20000) matrix\n",
      "2018-01-17 11:33:06,901 : INFO : computing the final decomposition\n",
      "2018-01-17 11:33:06,902 : INFO : keeping 400 factors (discarding 7.747% of energy spectrum)\n",
      "2018-01-17 11:33:08,006 : INFO : merging projections: (48337, 400) + (48337, 400)\n",
      "2018-01-17 11:33:14,325 : INFO : keeping 400 factors (discarding 10.192% of energy spectrum)\n",
      "2018-01-17 11:33:16,196 : INFO : processed documents up to #60000\n",
      "2018-01-17 11:33:16,204 : INFO : topic #0(21.345): 0.146*\"album\" + 0.124*\"church\" + 0.105*\"music\" + 0.096*\"song\" + 0.088*\"league\" + 0.080*\"band\" + 0.078*\"county\" + 0.076*\"club\" + 0.072*\"party\" + 0.071*\"chart\"\n",
      "2018-01-17 11:33:16,208 : INFO : topic #1(15.777): -0.352*\"album\" + 0.318*\"church\" + 0.245*\"historic\" + 0.206*\"register\" + -0.204*\"song\" + -0.184*\"chart\" + 0.177*\"county\" + -0.161*\"music\" + -0.160*\"band\" + 0.134*\"places\"\n",
      "2018-01-17 11:33:16,211 : INFO : topic #2(15.089): -0.286*\"church\" + 0.254*\"league\" + -0.238*\"historic\" + -0.227*\"album\" + -0.202*\"register\" + 0.167*\"cup\" + 0.165*\"club\" + 0.160*\"football\" + 0.148*\"goals\" + -0.130*\"places\"\n",
      "2018-01-17 11:33:16,214 : INFO : topic #3(14.051): -0.248*\"league\" + -0.239*\"historic\" + -0.210*\"register\" + 0.170*\"party\" + -0.165*\"club\" + -0.164*\"cup\" + -0.156*\"goals\" + 0.149*\"election\" + -0.147*\"listings\" + -0.145*\"football\"\n",
      "2018-01-17 11:33:16,218 : INFO : topic #4(13.121): -0.584*\"church\" + 0.415*\"species\" + 0.193*\"register\" + 0.189*\"marine\" + 0.140*\"listings\" + 0.130*\"historic\" + 0.130*\"county\" + 0.124*\"texas\" + 0.122*\"mm\" + 0.119*\"genus\"\n",
      "2018-01-17 11:33:29,026 : INFO : preparing a new chunk of documents\n",
      "2018-01-17 11:33:29,843 : INFO : using 100 extra samples and 2 power iterations\n",
      "2018-01-17 11:33:29,844 : INFO : 1st phase: constructing (48337, 500) action matrix\n",
      "2018-01-17 11:33:32,471 : INFO : orthonormalizing (48337, 500) action matrix\n",
      "2018-01-17 11:33:58,431 : INFO : 2nd phase: running dense svd on (500, 20000) matrix\n",
      "2018-01-17 11:34:03,523 : INFO : computing the final decomposition\n",
      "2018-01-17 11:34:03,524 : INFO : keeping 400 factors (discarding 7.914% of energy spectrum)\n",
      "2018-01-17 11:34:04,593 : INFO : merging projections: (48337, 400) + (48337, 400)\n",
      "2018-01-17 11:34:10,623 : INFO : keeping 400 factors (discarding 8.833% of energy spectrum)\n",
      "2018-01-17 11:34:12,347 : INFO : processed documents up to #80000\n",
      "2018-01-17 11:34:12,353 : INFO : topic #0(24.611): 0.145*\"album\" + 0.120*\"church\" + 0.105*\"music\" + 0.095*\"song\" + 0.093*\"league\" + 0.079*\"band\" + 0.077*\"club\" + 0.073*\"county\" + 0.072*\"football\" + 0.071*\"chart\"\n",
      "2018-01-17 11:34:12,357 : INFO : topic #1(17.994): -0.405*\"album\" + 0.249*\"church\" + -0.233*\"song\" + -0.213*\"chart\" + -0.186*\"music\" + -0.181*\"band\" + -0.146*\"guitar\" + -0.141*\"vocals\" + -0.132*\"track\" + 0.132*\"historic\"\n",
      "2018-01-17 11:34:12,362 : INFO : topic #2(17.238): -0.367*\"church\" + 0.318*\"league\" + 0.205*\"cup\" + 0.201*\"club\" + 0.198*\"football\" + 0.189*\"goals\" + -0.180*\"historic\" + 0.161*\"apps\" + -0.142*\"register\" + 0.116*\"round\"\n",
      "2018-01-17 11:34:12,366 : INFO : topic #3(16.051): -0.429*\"church\" + 0.281*\"election\" + 0.207*\"party\" + -0.205*\"historic\" + -0.182*\"league\" + -0.162*\"register\" + 0.153*\"elections\" + 0.136*\"votes\" + -0.119*\"club\" + -0.117*\"goals\"\n",
      "2018-01-17 11:34:12,369 : INFO : topic #4(15.012): 0.419*\"species\" + -0.310*\"election\" + -0.297*\"church\" + 0.189*\"marine\" + -0.184*\"party\" + -0.171*\"elections\" + -0.159*\"votes\" + 0.139*\"mm\" + 0.115*\"genus\" + -0.114*\"democratic\"\n",
      "2018-01-17 11:34:22,589 : INFO : preparing a new chunk of documents\n",
      "2018-01-17 11:34:23,265 : INFO : using 100 extra samples and 2 power iterations\n",
      "2018-01-17 11:34:23,266 : INFO : 1st phase: constructing (48337, 500) action matrix\n",
      "2018-01-17 11:34:25,265 : INFO : orthonormalizing (48337, 500) action matrix\n",
      "2018-01-17 11:34:47,723 : INFO : 2nd phase: running dense svd on (500, 14584) matrix\n",
      "2018-01-17 11:34:51,282 : INFO : computing the final decomposition\n",
      "2018-01-17 11:34:51,283 : INFO : keeping 400 factors (discarding 7.955% of energy spectrum)\n",
      "2018-01-17 11:34:52,300 : INFO : merging projections: (48337, 400) + (48337, 400)\n",
      "2018-01-17 11:34:58,509 : INFO : keeping 400 factors (discarding 6.722% of energy spectrum)\n",
      "2018-01-17 11:35:00,465 : INFO : processed documents up to #94584\n",
      "2018-01-17 11:35:00,470 : INFO : topic #0(26.780): 0.146*\"album\" + 0.110*\"church\" + 0.104*\"music\" + 0.102*\"league\" + 0.097*\"song\" + 0.083*\"club\" + 0.079*\"band\" + 0.077*\"football\" + 0.073*\"county\" + 0.071*\"chart\"\n",
      "2018-01-17 11:35:00,474 : INFO : topic #1(19.585): -0.414*\"album\" + -0.240*\"song\" + -0.215*\"chart\" + -0.188*\"music\" + -0.186*\"band\" + 0.174*\"church\" + -0.152*\"guitar\" + -0.149*\"vocals\" + -0.134*\"track\" + 0.124*\"league\"\n",
      "2018-01-17 11:35:00,477 : INFO : topic #2(18.895): -0.340*\"league\" + 0.308*\"church\" + -0.212*\"club\" + -0.209*\"football\" + -0.208*\"cup\" + -0.198*\"goals\" + 0.184*\"historic\" + -0.165*\"apps\" + 0.134*\"register\" + -0.120*\"round\"\n",
      "2018-01-17 11:35:00,481 : INFO : topic #3(17.231): -0.438*\"church\" + -0.268*\"historic\" + 0.230*\"election\" + 0.198*\"party\" + -0.196*\"register\" + -0.154*\"league\" + -0.138*\"places\" + 0.123*\"elections\" + -0.118*\"county\" + 0.111*\"votes\"\n",
      "2018-01-17 11:35:00,485 : INFO : topic #4(15.852): -0.373*\"election\" + 0.293*\"species\" + -0.259*\"party\" + -0.250*\"church\" + -0.204*\"elections\" + -0.193*\"votes\" + -0.139*\"democratic\" + 0.124*\"marine\" + -0.123*\"republican\" + -0.121*\"album\"\n"
     ]
    }
   ],
   "source": [
    "lsi = gensim.models.lsimodel.LsiModel(corpus=mm, id2word=id2word, num_topics=400)"
   ]
  },
  {
   "cell_type": "code",
   "execution_count": 7,
   "metadata": {},
   "outputs": [
    {
     "name": "stderr",
     "output_type": "stream",
     "text": [
      "2018-01-17 11:37:36,454 : INFO : topic #0(26.780): 0.146*\"album\" + 0.110*\"church\" + 0.104*\"music\" + 0.102*\"league\" + 0.097*\"song\" + 0.083*\"club\" + 0.079*\"band\" + 0.077*\"football\" + 0.073*\"county\" + 0.071*\"chart\"\n",
      "2018-01-17 11:37:36,457 : INFO : topic #1(19.585): -0.414*\"album\" + -0.240*\"song\" + -0.215*\"chart\" + -0.188*\"music\" + -0.186*\"band\" + 0.174*\"church\" + -0.152*\"guitar\" + -0.149*\"vocals\" + -0.134*\"track\" + 0.124*\"league\"\n",
      "2018-01-17 11:37:36,460 : INFO : topic #2(18.895): -0.340*\"league\" + 0.308*\"church\" + -0.212*\"club\" + -0.209*\"football\" + -0.208*\"cup\" + -0.198*\"goals\" + 0.184*\"historic\" + -0.165*\"apps\" + 0.134*\"register\" + -0.120*\"round\"\n",
      "2018-01-17 11:37:36,464 : INFO : topic #3(17.231): -0.438*\"church\" + -0.268*\"historic\" + 0.230*\"election\" + 0.198*\"party\" + -0.196*\"register\" + -0.154*\"league\" + -0.138*\"places\" + 0.123*\"elections\" + -0.118*\"county\" + 0.111*\"votes\"\n",
      "2018-01-17 11:37:36,467 : INFO : topic #4(15.852): -0.373*\"election\" + 0.293*\"species\" + -0.259*\"party\" + -0.250*\"church\" + -0.204*\"elections\" + -0.193*\"votes\" + -0.139*\"democratic\" + 0.124*\"marine\" + -0.123*\"republican\" + -0.121*\"album\"\n",
      "2018-01-17 11:37:36,470 : INFO : topic #5(15.507): 0.513*\"church\" + -0.292*\"historic\" + -0.257*\"register\" + -0.227*\"species\" + -0.225*\"county\" + -0.165*\"places\" + -0.147*\"listings\" + -0.146*\"election\" + -0.121*\"texas\" + -0.116*\"district\"\n",
      "2018-01-17 11:37:36,473 : INFO : topic #6(14.892): -0.507*\"species\" + -0.323*\"church\" + -0.211*\"marine\" + 0.190*\"historic\" + -0.158*\"mm\" + -0.150*\"genus\" + -0.150*\"election\" + 0.109*\"county\" + -0.106*\"gastropod\" + 0.103*\"places\"\n",
      "2018-01-17 11:37:36,475 : INFO : topic #7(14.452): 0.259*\"league\" + -0.245*\"olympics\" + 0.202*\"apps\" + 0.189*\"goals\" + -0.184*\"round\" + -0.182*\"championships\" + -0.154*\"freestyle\" + 0.153*\"club\" + -0.152*\"tournament\" + -0.145*\"men\"\n",
      "2018-01-17 11:37:36,478 : INFO : topic #8(14.196): -0.398*\"station\" + -0.339*\"railway\" + -0.249*\"village\" + -0.181*\"district\" + -0.170*\"line\" + 0.148*\"historic\" + 0.145*\"register\" + -0.141*\"km\" + 0.129*\"species\" + -0.119*\"road\"\n",
      "2018-01-17 11:37:36,482 : INFO : topic #9(12.886): 0.426*\"station\" + 0.340*\"railway\" + -0.322*\"village\" + -0.279*\"district\" + 0.172*\"line\" + -0.169*\"al\" + -0.153*\"population\" + -0.147*\"census\" + -0.121*\"oblast\" + 0.107*\"election\"\n"
     ]
    },
    {
     "data": {
      "text/plain": [
       "[(0,\n",
       "  '0.146*\"album\" + 0.110*\"church\" + 0.104*\"music\" + 0.102*\"league\" + 0.097*\"song\" + 0.083*\"club\" + 0.079*\"band\" + 0.077*\"football\" + 0.073*\"county\" + 0.071*\"chart\"'),\n",
       " (1,\n",
       "  '-0.414*\"album\" + -0.240*\"song\" + -0.215*\"chart\" + -0.188*\"music\" + -0.186*\"band\" + 0.174*\"church\" + -0.152*\"guitar\" + -0.149*\"vocals\" + -0.134*\"track\" + 0.124*\"league\"'),\n",
       " (2,\n",
       "  '-0.340*\"league\" + 0.308*\"church\" + -0.212*\"club\" + -0.209*\"football\" + -0.208*\"cup\" + -0.198*\"goals\" + 0.184*\"historic\" + -0.165*\"apps\" + 0.134*\"register\" + -0.120*\"round\"'),\n",
       " (3,\n",
       "  '-0.438*\"church\" + -0.268*\"historic\" + 0.230*\"election\" + 0.198*\"party\" + -0.196*\"register\" + -0.154*\"league\" + -0.138*\"places\" + 0.123*\"elections\" + -0.118*\"county\" + 0.111*\"votes\"'),\n",
       " (4,\n",
       "  '-0.373*\"election\" + 0.293*\"species\" + -0.259*\"party\" + -0.250*\"church\" + -0.204*\"elections\" + -0.193*\"votes\" + -0.139*\"democratic\" + 0.124*\"marine\" + -0.123*\"republican\" + -0.121*\"album\"'),\n",
       " (5,\n",
       "  '0.513*\"church\" + -0.292*\"historic\" + -0.257*\"register\" + -0.227*\"species\" + -0.225*\"county\" + -0.165*\"places\" + -0.147*\"listings\" + -0.146*\"election\" + -0.121*\"texas\" + -0.116*\"district\"'),\n",
       " (6,\n",
       "  '-0.507*\"species\" + -0.323*\"church\" + -0.211*\"marine\" + 0.190*\"historic\" + -0.158*\"mm\" + -0.150*\"genus\" + -0.150*\"election\" + 0.109*\"county\" + -0.106*\"gastropod\" + 0.103*\"places\"'),\n",
       " (7,\n",
       "  '0.259*\"league\" + -0.245*\"olympics\" + 0.202*\"apps\" + 0.189*\"goals\" + -0.184*\"round\" + -0.182*\"championships\" + -0.154*\"freestyle\" + 0.153*\"club\" + -0.152*\"tournament\" + -0.145*\"men\"'),\n",
       " (8,\n",
       "  '-0.398*\"station\" + -0.339*\"railway\" + -0.249*\"village\" + -0.181*\"district\" + -0.170*\"line\" + 0.148*\"historic\" + 0.145*\"register\" + -0.141*\"km\" + 0.129*\"species\" + -0.119*\"road\"'),\n",
       " (9,\n",
       "  '0.426*\"station\" + 0.340*\"railway\" + -0.322*\"village\" + -0.279*\"district\" + 0.172*\"line\" + -0.169*\"al\" + -0.153*\"population\" + -0.147*\"census\" + -0.121*\"oblast\" + 0.107*\"election\"')]"
      ]
     },
     "execution_count": 7,
     "metadata": {},
     "output_type": "execute_result"
    }
   ],
   "source": [
    "lsi.print_topics(10)"
   ]
  }
 ],
 "metadata": {
  "anaconda-cloud": {},
  "kernelspec": {
   "display_name": "Python 3",
   "language": "python",
   "name": "python3"
  },
  "language_info": {
   "codemirror_mode": {
    "name": "ipython",
    "version": 3
   },
   "file_extension": ".py",
   "mimetype": "text/x-python",
   "name": "python",
   "nbconvert_exporter": "python",
   "pygments_lexer": "ipython3",
   "version": "3.6.1"
  }
 },
 "nbformat": 4,
 "nbformat_minor": 1
}
